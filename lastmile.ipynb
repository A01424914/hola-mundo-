{
  "nbformat": 4,
  "nbformat_minor": 0,
  "metadata": {
    "colab": {
      "provenance": []
    },
    "kernelspec": {
      "name": "python3",
      "display_name": "Python 3"
    },
    "language_info": {
      "name": "python"
    }
  },
  "cells": [
    {
      "cell_type": "code",
      "execution_count": null,
      "metadata": {
        "id": "n-syPpOgcAfT"
      },
      "outputs": [],
      "source": [
        "#Importamos librerias requeridas\n",
        "import pandas as pd\n",
        "import numpy as np\n",
        "import matplotlib.pyplot as plt"
      ]
    },
    {
      "cell_type": "code",
      "source": [
        "#Cargar archivo xlsx desde equipo\n",
        "from google.colab import files#orden que hace que el código busque el documento en la computadora\n",
        "files.upload()"
      ],
      "metadata": {
        "id": "62GdhztlFd8f"
      },
      "execution_count": null,
      "outputs": []
    },
    {
      "cell_type": "code",
      "source": [
        "#Carga desde archivo .csv sin indice\n",
        "micro=pd.read_csv(\"lastmile_delivery_operations_mit_lift_lab.csv\")#lee el excel y se ponemos el nombre para que lo pueda leer\n",
        "micro"
      ],
      "metadata": {
        "id": "V4xxEe0zcinM"
      },
      "execution_count": null,
      "outputs": []
    },
    {
      "cell_type": "code",
      "source": [
        "#Verificamos información del DataFrame\n",
        "micro.info() #Se ve toda la forma del documento"
      ],
      "metadata": {
        "id": "MTdcSHWCsOVG"
      },
      "execution_count": null,
      "outputs": []
    },
    {
      "cell_type": "code",
      "source": [
        "#Carga desde archivo excel sin indice\n",
        "data=pd.read_csv(\"lastmile_delivery_operations_mit_lift_lab.csv\")\n",
        "data.head() #te deja ver los primeros datos de las filas y columnas como excel"
      ],
      "metadata": {
        "id": "o_u4jK1esaOM"
      },
      "execution_count": null,
      "outputs": []
    },
    {
      "cell_type": "markdown",
      "source": [
        "Tenemos que quitar valores nulos"
      ],
      "metadata": {
        "id": "dFonEz3ntpr5"
      }
    },
    {
      "cell_type": "code",
      "source": [
        "#tercer metodo de sustitucion de valores nulos\n",
        "#sustituir valores nulos por un valor numerico en concreto\n",
        "micro['_title']=micro['_title'].fillna(\"_title\")\n",
        "micro"
      ],
      "metadata": {
        "id": "jSsRu3w3U1zO"
      },
      "execution_count": null,
      "outputs": []
    },
    {
      "cell_type": "code",
      "source": [
        "#Corroboramos valores nulos\n",
        "valores_nulos=micro.isnull().sum()#muestra los datos que tiene valores nulos y cuanto son\n",
        "valores_nulos"
      ],
      "metadata": {
        "id": "13HIyZxCUBFD",
        "colab": {
          "base_uri": "https://localhost:8080/"
        },
        "outputId": "da5ebe12-6bf5-47a5-cbdc-9c4ea67dbdd0"
      },
      "execution_count": null,
      "outputs": [
        {
          "output_type": "execute_result",
          "data": {
            "text/plain": [
              "_record_id                                         0\n",
              "_title                                             0\n",
              "_server_updated_at                                 0\n",
              "_updated_by                                        0\n",
              "_geometry                                          0\n",
              "_latitude                                          0\n",
              "_longitude                                         0\n",
              "arrival_of_the_freight_vehicle                     0\n",
              "plates                                             1\n",
              "company_if_visible                                73\n",
              "visit_purpose                                      0\n",
              "type_of_vehicle                                    0\n",
              "number_of_operators                                0\n",
              "refrigerated_truck                                 0\n",
              "type_of_cargo                                      0\n",
              "picture_of_the_parked_freight_vehicle              0\n",
              "departure_of_the_freight_vehicle                   0\n",
              "where_was_the_vehicle_parked                       0\n",
              "while_parked_was_the_engine_running                0\n",
              "used_traffic_cone                                  0\n",
              "vehicles_unloading_door                            0\n",
              "number_of_available_trolleys                       0\n",
              "serving_customer                                 147\n",
              "garage_blocking                                    0\n",
              "accident                                           0\n",
              "describe_the_accident                            182\n",
              "noise                                              0\n",
              "traffic_congestion                                 0\n",
              "maximum_number_of_vehicles_in_the_traffic_jam    180\n",
              "dtype: int64"
            ]
          },
          "metadata": {},
          "execution_count": 8
        }
      ]
    },
    {
      "cell_type": "code",
      "source": [
        "#tercer metodo de sustitucion de valores nulos\n",
        "#sustituir valores nulos por un valor numerico en concreto\n",
        "micro['describe_the_accident']=micro['describe_the_accident'].fillna(\"describe_the_accident\")\n",
        "micro"
      ],
      "metadata": {
        "id": "oaTv-UmWcjjj"
      },
      "execution_count": null,
      "outputs": []
    },
    {
      "cell_type": "code",
      "source": [
        "#tercer metodo de sustitucion de valores nulos\n",
        "#sustituir valores nulos por un valor numerico en concreto\n",
        "micro['maximum_number_of_vehicles_in_the_traffic_jam']=micro['maximum_number_of_vehicles_in_the_traffic_jam'].fillna(\"maximum_number_of_vehicles_in_the_traffic_jam\")\n",
        "micro"
      ],
      "metadata": {
        "id": "6sUUs40UcwWf"
      },
      "execution_count": null,
      "outputs": []
    },
    {
      "cell_type": "code",
      "source": [
        "#Corroboramos valores nulos\n",
        "valores_nulos=micro.isnull().sum()\n",
        "valores_nulos"
      ],
      "metadata": {
        "id": "86opI82wdOWw"
      },
      "execution_count": null,
      "outputs": []
    },
    {
      "cell_type": "code",
      "source": [
        "#tercer metodo de sustitucion de valores nulos\n",
        "#sustituir valores nulos por un valor numerico en concreto\n",
        "micro['arrival_of_the_freight_vehicle']=micro['arrival_of_the_freight_vehicle'].fillna(\"arrival_of_the_freight_vehicle\")\n",
        "micro\n",
        "  "
      ],
      "metadata": {
        "id": "K9DSn1WldR8M"
      },
      "execution_count": null,
      "outputs": []
    },
    {
      "cell_type": "code",
      "source": [
        "#tercer metodo de sustitucion de valores nulos\n",
        "#sustituir valores nulos por un valor numerico en concreto\n",
        "micro['serving_customer']=micro['serving_customer'].fillna(\"serving_customer\")\n",
        "micro\n",
        " "
      ],
      "metadata": {
        "id": "Nq9DgxOrwP8S"
      },
      "execution_count": null,
      "outputs": []
    },
    {
      "cell_type": "code",
      "source": [
        "#tercer metodo de sustitucion de valores nulos\n",
        "#sustituir valores nulos por un valor numerico en concreto\n",
        "micro['company_if_visible']=micro['company_if_visible'].fillna(\"company_if_visible\")\n",
        "micro\n"
      ],
      "metadata": {
        "id": "f35bKS4XdfJ0"
      },
      "execution_count": null,
      "outputs": []
    },
    {
      "cell_type": "code",
      "source": [
        "#Corroboramos valores nulos\n",
        "valores_nulos=micro.isnull().sum()\n",
        "valores_nulos"
      ],
      "metadata": {
        "id": "P3yyzUpldsQI",
        "colab": {
          "base_uri": "https://localhost:8080/"
        },
        "outputId": "201a0cae-d262-4dcd-e242-6c108a8f57a2"
      },
      "execution_count": null,
      "outputs": [
        {
          "output_type": "execute_result",
          "data": {
            "text/plain": [
              "_record_id                                       0\n",
              "_title                                           0\n",
              "_server_updated_at                               0\n",
              "_updated_by                                      0\n",
              "_geometry                                        0\n",
              "_latitude                                        0\n",
              "_longitude                                       0\n",
              "arrival_of_the_freight_vehicle                   0\n",
              "plates                                           1\n",
              "company_if_visible                               0\n",
              "visit_purpose                                    0\n",
              "type_of_vehicle                                  0\n",
              "number_of_operators                              0\n",
              "refrigerated_truck                               0\n",
              "type_of_cargo                                    0\n",
              "picture_of_the_parked_freight_vehicle            0\n",
              "departure_of_the_freight_vehicle                 0\n",
              "where_was_the_vehicle_parked                     0\n",
              "while_parked_was_the_engine_running              0\n",
              "used_traffic_cone                                0\n",
              "vehicles_unloading_door                          0\n",
              "number_of_available_trolleys                     0\n",
              "serving_customer                                 0\n",
              "garage_blocking                                  0\n",
              "accident                                         0\n",
              "describe_the_accident                            0\n",
              "noise                                            0\n",
              "traffic_congestion                               0\n",
              "maximum_number_of_vehicles_in_the_traffic_jam    0\n",
              "dtype: int64"
            ]
          },
          "metadata": {},
          "execution_count": 18
        }
      ]
    },
    {
      "cell_type": "markdown",
      "source": [
        "**Observamos que solo falta uno**"
      ],
      "metadata": {
        "id": "ZdYQT4NwuAWm"
      }
    },
    {
      "cell_type": "code",
      "source": [
        "#tercer metodo de sustitucion de valores nulos\n",
        "#sustituir valores nulos por un valor numerico en concreto\n",
        "micro['plates']=micro['plates'].fillna(\"plates\")\n",
        "micro\n"
      ],
      "metadata": {
        "id": "Qy2RKFQ9dxpw"
      },
      "execution_count": null,
      "outputs": []
    },
    {
      "cell_type": "code",
      "source": [
        "#Corroboramos valores nulos\n",
        "valores_nulos=micro.isnull().sum()\n",
        "valores_nulos"
      ],
      "metadata": {
        "id": "rluX41vod8l4"
      },
      "execution_count": null,
      "outputs": []
    },
    {
      "cell_type": "code",
      "source": [
        "#Corroboramos valores nulos\n",
        "valores_nulos=micro.isnull().sum().sum()#Comprobamos que ya no haya valores nulos \n",
        "valores_nulos"
      ],
      "metadata": {
        "colab": {
          "base_uri": "https://localhost:8080/"
        },
        "id": "3Ygg21tmeCFR",
        "outputId": "79c3c3eb-13dc-43a8-cf08-133855b35ef9"
      },
      "execution_count": null,
      "outputs": [
        {
          "output_type": "execute_result",
          "data": {
            "text/plain": [
              "0"
            ]
          },
          "metadata": {},
          "execution_count": 22
        }
      ]
    },
    {
      "cell_type": "markdown",
      "source": [
        "**Procedimiento \"Cuantiles\" para sustituir outliers en dataframe**\n",
        "\n"
      ],
      "metadata": {
        "id": "ejQoJ4ydui-v"
      }
    },
    {
      "cell_type": "code",
      "source": [
        "#Realizamos diagrama de caja o bigote de cada columna del \n",
        "fig=plt.figure(figsize=(15,8))#muestra el tamaño en que se muestra la imagen\n",
        "micro.plot(kind='box',vert=False)#genera la caja o bigote y la grafica de todas las columnas que contengan valores atípicos\n",
        "plt.title(\"Valores Atipicos del dataframe\") # coloca el nombre de la grafica \n",
        "plt.show()# Dibujamos el diagrama \n"
      ],
      "metadata": {
        "colab": {
          "base_uri": "https://localhost:8080/",
          "height": 299
        },
        "id": "WvkS88-VgTNA",
        "outputId": "2fec5949-9792-4d0f-e648-3251fde51f15"
      },
      "execution_count": null,
      "outputs": [
        {
          "output_type": "display_data",
          "data": {
            "text/plain": [
              "<Figure size 1080x576 with 0 Axes>"
            ]
          },
          "metadata": {}
        },
        {
          "output_type": "display_data",
          "data": {
            "text/plain": [
              "<Figure size 432x288 with 1 Axes>"
            ],
            "image/png": "[encoded data removed]"
          },
          "metadata": {
            "needs_background": "light"
          }
        }
      ]
    },
    {
      "cell_type": "code",
      "source": [
        "from numpy.lib.function_base import percentile  \n",
        "#Metodo aplicando Cuartiles. Encuentro cuartilies 0.25 y 0.75\n",
        "y=micro['number_of_available_trolleys']#llama a la columna a la que se le quitarán los valores atípicos\n",
        "percentile25=y.quantile(0.25) #Q1#se usa un porcentaje de 25 como límite inferior\n",
        "percentile75=y.quantile(0.75) #Q3#se usa un porcentaje de 25 como límite superior\n",
        "iqr=percentile75 -percentile25#hace la resta de los límites\n",
        "Limite_Superior_iqr=percentile75+1.5*iqr #mide la dispersión con el limite superior\n",
        "Limite_Inferior_iqr=percentile25-1.5*iqr #mide la dispersión con el limite inferior\n",
        "print(\"Limite superior permitido\", Limite_Superior_iqr)\n",
        "print(\"Limite interior permitido\", Limite_Inferior_iqr) #muestran los valores de los límites permitidos"
      ],
      "metadata": {
        "colab": {
          "base_uri": "https://localhost:8080/"
        },
        "id": "JYnbiwQFeX5J",
        "outputId": "6cac2032-b668-4668-f1de-a60d7aeac56a"
      },
      "execution_count": null,
      "outputs": [
        {
          "output_type": "stream",
          "name": "stdout",
          "text": [
            "Limite superior permitido 2.5\n",
            "Limite interior permitido -1.5\n"
          ]
        }
      ]
    },
    {
      "cell_type": "code",
      "source": [
        "#Encontramos outliers del dataframe\n",
        "outliers_iqr=micro[(y<Limite_Superior_iqr)|(y>Limite_Inferior_iqr)]\n",
        "outliers_iqr#encuentra los valores que se salen del rango de los límites"
      ],
      "metadata": {
        "id": "nixxDOIIhscV"
      },
      "execution_count": null,
      "outputs": []
    },
    {
      "cell_type": "code",
      "source": [
        "#Obtenemos datos limpios\n",
        "data_clean_iqr=micro[(y<=Limite_Superior_iqr)&(y>=Limite_Inferior_iqr)]\n",
        "data_clean_iqr#genera los datos limpios de la columna sin valores atípicos"
      ],
      "metadata": {
        "id": "djkMAv-PjAmH"
      },
      "execution_count": null,
      "outputs": []
    },
    {
      "cell_type": "code",
      "source": [
        "#Realizamos diagrama de caja o bigote de cada columna del \n",
        "fig=plt.figure(figsize=(15,8)) #muestra el tamaño de la figura\n",
        "plt.boxplot(data_clean_iqr[\"number_of_available_trolleys\"])#gráfica la caja con los valores ya dentro de los límites de una columna\n",
        "plt.title(\"Outliers de number_of_available_trolleysr\") #titulo de la grafica\n",
        "plt.show()# Dibujamos el diagrama \n"
      ],
      "metadata": {
        "colab": {
          "base_uri": "https://localhost:8080/",
          "height": 499
        },
        "id": "yRSEoAMukImO",
        "outputId": "aa8dc821-5942-464e-a6e6-4a587392ff49"
      },
      "execution_count": null,
      "outputs": [
        {
          "output_type": "display_data",
          "data": {
            "text/plain": [
              "<Figure size 1080x576 with 1 Axes>"
            ],
            "image/png": "[encoded data removed]"
          },
          "metadata": {
            "needs_background": "light"
          }
        }
      ]
    },
    {
      "cell_type": "code",
      "source": [
        "#Realizamos una copia del dataframe\n",
        "micro=data_clean_iqr.copy()"
      ],
      "metadata": {
        "id": "5-EzGc5rUqeq"
      },
      "execution_count": null,
      "outputs": []
    },
    {
      "cell_type": "code",
      "source": [
        "from numpy.lib.function_base import percentile\n",
        "#Metodo aplicando Cuartiles. Encuentro cuartilies 0.25 y 0.75\n",
        "y=micro['number_of_operators']#llama a la columna a la que se le quitarán los valores atípicos\n",
        "percentile25=y.quantile(0.25) #Q1#se usa un porcentaje de 25 como límite inferior\n",
        "percentile75=y.quantile(0.75) #Q3#se usa un porcentaje de 25 como límite superior\n",
        "iqr=percentile75 -percentile25#hace la resta de los límites\n",
        "Limite_Superior_iqr=percentile75+1.5*iqr #mide la dispersión con el limite superior\n",
        "Limite_Inferior_iqr=percentile25-1.5*iqr #mide la dispersión con el limite inferior\n",
        "print(\"Limite superior permitido\", Limite_Superior_iqr)\n",
        "print(\"Limite interior permitido\", Limite_Inferior_iqr) #muestran los valores de los límites permitidos"
      ],
      "metadata": {
        "colab": {
          "base_uri": "https://localhost:8080/"
        },
        "id": "vEeZUu0_m8vQ",
        "outputId": "62d592b8-4b4c-4115-93f2-2418339df46c"
      },
      "execution_count": null,
      "outputs": [
        {
          "output_type": "stream",
          "name": "stdout",
          "text": [
            "Limite superior permitido 3.5\n",
            "Limite interior permitido -0.5\n"
          ]
        }
      ]
    },
    {
      "cell_type": "code",
      "source": [
        "#Encontramos outliers del dataframe\n",
        "outliers_iqr=micro[(y>Limite_Superior_iqr)|(y<Limite_Inferior_iqr)]\n",
        "outliers_iqr"
      ],
      "metadata": {
        "id": "AZoaupmhnZnH"
      },
      "execution_count": null,
      "outputs": []
    },
    {
      "cell_type": "code",
      "source": [
        "#Obtenemos datos limpios\n",
        "data_clean_iqr=micro[(y<=Limite_Superior_iqr)&(y>=Limite_Inferior_iqr)]\n",
        "data_clean_iqr"
      ],
      "metadata": {
        "id": "cgVL_Cwtni7a"
      },
      "execution_count": null,
      "outputs": []
    },
    {
      "cell_type": "code",
      "source": [
        "#Realizamos diagrama de caja o bigote de cada columna del \n",
        "fig=plt.figure(figsize=(15,8)) #muestra el tamaño de la figura\n",
        "plt.boxplot(data_clean_iqr[\"number_of_operators\"])#gráfica la caja con los valores ya dentro de los límites de una columna\n",
        "plt.title(\"Outliers de number_of_operators\") #titulo de la grafica\n",
        "plt.show()# Dibujamos el diagrama \n"
      ],
      "metadata": {
        "colab": {
          "base_uri": "https://localhost:8080/",
          "height": 499
        },
        "id": "efZweJfmnr5p",
        "outputId": "9f1eb9bd-b2ac-419c-cc08-6b0994798550"
      },
      "execution_count": null,
      "outputs": [
        {
          "output_type": "display_data",
          "data": {
            "text/plain": [
              "<Figure size 1080x576 with 1 Axes>"
            ],
            "image/png": "[encoded data removed]"
          },
          "metadata": {
            "needs_background": "light"
          }
        }
      ]
    },
    {
      "cell_type": "code",
      "source": [
        "#Realizamos una copia del dataframe\n",
        "data3=data_clean_iqr.copy()"
      ],
      "metadata": {
        "id": "Nfl8xJOdoFow"
      },
      "execution_count": null,
      "outputs": []
    },
    {
      "cell_type": "code",
      "source": [
        "from numpy.lib.function_base import percentile\n",
        "#Metodo aplicando Cuartiles. Encuentro cuartilies 0.25 y 0.75\n",
        "y=micro['maximum_number_of_vehicles_in_the_traffic_jam']\n",
        "percentile25=y.quantile(0.25) #Q1\n",
        "percentile75=y.quantile(0.75) #Q3\n",
        "iqr=percentile75 -percentile25\n",
        "Limite_superior_iqr=percentile75 + 1.5*iqr\n",
        "Limite_inferior_iqr=percentile25 - 1.5*iqr\n",
        "print('Limite superior permitido',Limite_superior_iqr)\n",
        "print('Limite inferior permitido', Limite_inferior_iqr)"
      ],
      "metadata": {
        "colab": {
          "base_uri": "https://localhost:8080/"
        },
        "id": "4lAt_hz5oxgZ",
        "outputId": "33464857-7053-4bb5-e8e0-893a4722dc07"
      },
      "execution_count": null,
      "outputs": [
        {
          "output_type": "stream",
          "name": "stdout",
          "text": [
            "Limite superior permitido 3.0\n",
            "Limite inferior permitido 3.0\n"
          ]
        }
      ]
    },
    {
      "cell_type": "code",
      "source": [
        "#Encontramos outliers del dataframe\n",
        "outliers_iqr=micro[(y<Limite_superior_iqr)|(y>Limite_inferior_iqr)]\n",
        "outliers_iqr"
      ],
      "metadata": {
        "id": "JbpZvzrHo803"
      },
      "execution_count": null,
      "outputs": []
    },
    {
      "cell_type": "code",
      "source": [
        "#Realizamos diagrama de caja o bigote de cada columna del \n",
        "fig=plt.figure(figsize=(5,5))\n",
        "plt.boxplot(data_clean_iqr[\"maximum_number_of_vehicles_in_the_traffic_jam\"])\n",
        "plt.title(\"Outliers de maximum_number_of_vehicles_in_the_traffic_jam\")\n",
        "plt.show()# Dibujamos el diagrama "
      ],
      "metadata": {
        "id": "FFA2Pm_Po_Jj"
      },
      "execution_count": null,
      "outputs": []
    },
    {
      "cell_type": "markdown",
      "source": [
        "**Convertir DataSet sin valores nulos a CSV**"
      ],
      "metadata": {
        "id": "3VnZSRjBxOr_"
      }
    },
    {
      "cell_type": "code",
      "source": [
        "#Convertir dataframe a CSV\n",
        "micro.to_csv(\"lastmile_delivery_operaions_Nuevo.csv\")\n",
        "#Descargar archivo filtrado en csv\n",
        "from google.colab import files\n",
        "\n",
        "\n",
        "files.download(\"lastmile_delivery_operaions_Nuevo.csv\")"
      ],
      "metadata": {
        "colab": {
          "base_uri": "https://localhost:8080/",
          "height": 17
        },
        "id": "3t6mA28xpRlt",
        "outputId": "54068fd6-6868-4f40-cd5f-6f89a3f14cb4"
      },
      "execution_count": null,
      "outputs": [
        {
          "output_type": "display_data",
          "data": {
            "text/plain": [
              "<IPython.core.display.Javascript object>"
            ],
            "application/javascript": [
              "\n",
              "    async function download(id, filename, size) {\n",
              "      if (!google.colab.kernel.accessAllowed) {\n",
              "        return;\n",
              "      }\n",
              "      const div = document.createElement('div');\n",
              "      const label = document.createElement('label');\n",
              "      label.textContent = `Downloading \"${filename}\": `;\n",
              "      div.appendChild(label);\n",
              "      const progress = document.createElement('progress');\n",
              "      progress.max = size;\n",
              "      div.appendChild(progress);\n",
              "      document.body.appendChild(div);\n",
              "\n",
              "      const buffers = [];\n",
              "      let downloaded = 0;\n",
              "\n",
              "      const channel = await google.colab.kernel.comms.open(id);\n",
              "      // Send a message to notify the kernel that we're ready.\n",
              "      channel.send({})\n",
              "\n",
              "      for await (const message of channel.messages) {\n",
              "        // Send a message to notify the kernel that we're ready.\n",
              "        channel.send({})\n",
              "        if (message.buffers) {\n",
              "          for (const buffer of message.buffers) {\n",
              "            buffers.push(buffer);\n",
              "            downloaded += buffer.byteLength;\n",
              "            progress.value = downloaded;\n",
              "          }\n",
              "        }\n",
              "      }\n",
              "      const blob = new Blob(buffers, {type: 'application/binary'});\n",
              "      const a = document.createElement('a');\n",
              "      a.href = window.URL.createObjectURL(blob);\n",
              "      a.download = filename;\n",
              "      div.appendChild(a);\n",
              "      a.click();\n",
              "      div.remove();\n",
              "    }\n",
              "  "
            ]
          },
          "metadata": {}
        },
        {
          "output_type": "display_data",
          "data": {
            "text/plain": [
              "<IPython.core.display.Javascript object>"
            ],
            "application/javascript": [
              "download(\"download_c3a3f9fb-22ef-4ae3-80a2-3c7c3f9e6402\", \"lastmile_delivery_operaions_Nuevo.csv\", 90626)"
            ]
          },
          "metadata": {}
        }
      ]
    }
  ]
}