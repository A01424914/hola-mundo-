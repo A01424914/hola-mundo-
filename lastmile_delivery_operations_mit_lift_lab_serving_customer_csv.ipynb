{
  "nbformat": 4,
  "nbformat_minor": 0,
  "metadata": {
    "colab": {
      "provenance": []
    },
    "kernelspec": {
      "name": "python3",
      "display_name": "Python 3"
    },
    "language_info": {
      "name": "python"
    }
  },
  "cells": [
    {
      "cell_type": "code",
      "execution_count": null,
      "metadata": {
        "id": "n-syPpOgcAfT"
      },
      "outputs": [],
      "source": [
        "#Importamos librerias requeridas\n",
        "import pandas as pd\n",
        "import numpy as np\n",
        "import matplotlib.pyplot as plt"
      ]
    },
    {
      "cell_type": "code",
      "source": [
        "#Cargar archivo xlsx desde equipo\n",
        "from google.colab import files#orden que hace que el código busque el documento en la computadora\n",
        "files.upload()"
      ],
      "metadata": {
        "id": "62GdhztlFd8f"
      },
      "execution_count": null,
      "outputs": []
    },
    {
      "cell_type": "code",
      "source": [
        "#Carga desde archivo .csv sin indice\n",
        "last_mile_customer=pd.read_csv(\"lastmile_delivery_operations_mit_lift_lab_serving_customer.csv\")#lee el excel y se ponemos el nombre para que lo pueda leer\n",
        "last_mile_customer"
      ],
      "metadata": {
        "id": "V4xxEe0zcinM"
      },
      "execution_count": null,
      "outputs": []
    },
    {
      "cell_type": "code",
      "source": [
        "#Verificamos información del DataFrame\n",
        "last_mile_customer.info() #muestra toda la estructura de los datos del documento"
      ],
      "metadata": {
        "id": "VSziH1lJn56u"
      },
      "execution_count": null,
      "outputs": []
    },
    {
      "cell_type": "code",
      "source": [
        "#Corroboramos valores nulos\n",
        "valores_nulos=last_mile_customer.isnull().sum()#muestra los datos que tiene valores nulos y cuanto son\n",
        "valores_nulos"
      ],
      "metadata": {
        "id": "13HIyZxCUBFD"
      },
      "execution_count": null,
      "outputs": []
    },
    {
      "cell_type": "markdown",
      "source": [
        "Quitamos valores nulos\n"
      ],
      "metadata": {
        "id": "81EHU0V6rA2t"
      }
    },
    {
      "cell_type": "code",
      "source": [
        "#tercer metodo de sustitucion de valores nulos\n",
        "#sustituir valores nulos por un valor numerico en concreto\n",
        "last_mile_customer['picture_cargo_being_delivered_captions']=last_mile_customer['picture_cargo_being_delivered_captions'].fillna(\"picture_cargo_being_delivered_captions\")\n",
        "last_mile_customer#Usamos el metodo como manera de sustitucion de valores y se rellenan \n"
      ],
      "metadata": {
        "id": "JRGorXoxrELc"
      },
      "execution_count": null,
      "outputs": []
    },
    {
      "cell_type": "code",
      "source": [
        "#Corroboramos valores nulos\n",
        "valores_nulos=last_mile_customer.isnull().sum()#muestra los datos que tiene valores nulos y cuanto son\n",
        "valores_nulos"
      ],
      "metadata": {
        "id": "XCJZ0U5OrWri"
      },
      "execution_count": null,
      "outputs": []
    },
    {
      "cell_type": "code",
      "source": [
        "#tercer metodo de sustitucion de valores nulos\n",
        "#sustituir valores nulos por un valor numerico en concreto\n",
        "last_mile_customer['picture_cargo_being_delivered']=last_mile_customer['picture_cargo_being_delivered'].fillna(\"picture_cargo_being_delivered\")\n",
        "last_mile_customer#Usamos el metodo como manera de sustitucion de valores y se rellenan \n"
      ],
      "metadata": {
        "id": "Ee3A0eLisV9o"
      },
      "execution_count": null,
      "outputs": []
    },
    {
      "cell_type": "code",
      "source": [
        "#Corroboramos valores nulos\n",
        "valores_nulos=last_mile_customer.isnull().sum()\n",
        "valores_nulos"
      ],
      "metadata": {
        "colab": {
          "base_uri": "https://localhost:8080/"
        },
        "id": "5ZN2VRhFsmlW",
        "outputId": "78197aad-3d11-4e5a-dbee-0d3108d56273"
      },
      "execution_count": null,
      "outputs": [
        {
          "output_type": "execute_result",
          "data": {
            "text/plain": [
              "_child_record_id                           0\n",
              "_record_id                                 0\n",
              "_parent_id                                 0\n",
              "_title                                     0\n",
              "_version                                   0\n",
              "_created_at                                0\n",
              "_updated_at                                0\n",
              "_created_by                                0\n",
              "_updated_by                                0\n",
              "_index                                     0\n",
              "_geometry                                  0\n",
              "_latitude                                  0\n",
              "_longitude                                 0\n",
              "_changeset_id                              0\n",
              "_created_duration                          0\n",
              "_updated_duration                          0\n",
              "_edited_duration                           0\n",
              "name_of_the_store                          0\n",
              "entering_the_store                         0\n",
              "number_of_customers_in_store               0\n",
              "number_of_suppliers_in_store               0\n",
              "picture_cargo_being_delivered              0\n",
              "picture_cargo_being_delivered_captions     0\n",
              "picture_cargo_being_delivered_urls        10\n",
              "number_of_cases_boxes_delivered            0\n",
              "trolley_in_use                             0\n",
              "leaving_the_store                          0\n",
              "dtype: int64"
            ]
          },
          "metadata": {},
          "execution_count": 12
        }
      ]
    },
    {
      "cell_type": "code",
      "source": [
        "#tercer metodo de sustitucion de valores nulos\n",
        "#sustituir valores nulos por un valor numerico en concreto\n",
        "last_mile_customer['picture_cargo_being_delivered_urls']=last_mile_customer['picture_cargo_being_delivered_urls'].fillna(\"picture_cargo_being_delivered_urls\")\n",
        "last_mile_customer#Usamos el metodo como manera de sustitucion de valores y se rellenan "
      ],
      "metadata": {
        "id": "oaTv-UmWcjjj"
      },
      "execution_count": null,
      "outputs": []
    },
    {
      "cell_type": "code",
      "source": [
        "#Corroboramos valores nulos\n",
        "valores_nulos=last_mile_customer.isnull().sum()#muestra los datos que tiene valores nulos y cuanto son\n",
        "valores_nulos"
      ],
      "metadata": {
        "id": "6sUUs40UcwWf"
      },
      "execution_count": null,
      "outputs": []
    },
    {
      "cell_type": "code",
      "source": [
        "#Corroboramos valores nulos\n",
        "valores_nulos=last_mile_customer.isnull().sum().sum()#Comprobamos que ya no haya valores nulos\n",
        "valores_nulos"
      ],
      "metadata": {
        "colab": {
          "base_uri": "https://localhost:8080/"
        },
        "id": "3Ygg21tmeCFR",
        "outputId": "699bf59a-cbcc-4e35-97ad-9ceb012cbdc1"
      },
      "execution_count": null,
      "outputs": [
        {
          "output_type": "execute_result",
          "data": {
            "text/plain": [
              "0"
            ]
          },
          "metadata": {},
          "execution_count": 17
        }
      ]
    },
    {
      "cell_type": "markdown",
      "source": [
        "**Procedimiento \"Cuantiles\" para sustituir outliers en dataframe**"
      ],
      "metadata": {
        "id": "3VubrZOl1n6F"
      }
    },
    {
      "cell_type": "code",
      "source": [
        "#Realizamos diagrama de caja o bigote de cada columna del \n",
        "fig=plt.figure(figsize=(15,8))#muestra el tamaño en que se muestra la imagen\n",
        "last_mile_customer.plot(kind='box',vert=False)#genera la caja o bigote y la grafica de todas las columnas que contengan valores atípicos\n",
        "plt.title(\"Valores Atipicos del dataframe\")# coloca el nombre de la grafica\n",
        "plt.show()# Dibujamos el diagrama \n"
      ],
      "metadata": {
        "colab": {
          "base_uri": "https://localhost:8080/",
          "height": 299
        },
        "id": "WvkS88-VgTNA",
        "outputId": "54c1ffc4-8050-4b1c-e48c-66ad887a3de2"
      },
      "execution_count": null,
      "outputs": [
        {
          "output_type": "display_data",
          "data": {
            "text/plain": [
              "<Figure size 1080x576 with 0 Axes>"
            ]
          },
          "metadata": {}
        },
        {
          "output_type": "display_data",
          "data": {
            "text/plain": [
              "<Figure size 432x288 with 1 Axes>"
            ],
            "image/png": "[encoded data removed]"
          },
          "metadata": {
            "needs_background": "light"
          }
        }
      ]
    },
    {
      "cell_type": "code",
      "source": [
        "from numpy.lib.function_base import percentile  \n",
        "#Metodo aplicando Cuartiles. Encuentro cuartilies 0.25 y 0.75\n",
        "y=last_mile_customer['number_of_customers_in_store']#llama a la columna a la que se le quitarán los valores atípicos\n",
        "percentile25=y.quantile(0.25) #Q1#se usa un porcentaje de 25 como límite inferior\n",
        "percentile75=y.quantile(0.75) #Q3#se usa un porcentaje de 25 como límite superior\n",
        "iqr=percentile75 -percentile25#hace la resta de los límites\n",
        "Limite_Superior_iqr=percentile75+1.5*iqr #mide la dispersión con el limite superior\n",
        "Limite_Inferior_iqr=percentile25-1.5*iqr #mide la dispersión con el limite inferior\n",
        "print(\"Limite superior permitido\", Limite_Superior_iqr)\n",
        "print(\"Limite interior permitido\", Limite_Inferior_iqr) #muestran los valores de los límites permitidos"
      ],
      "metadata": {
        "colab": {
          "base_uri": "https://localhost:8080/"
        },
        "id": "JYnbiwQFeX5J",
        "outputId": "43919ee2-19e0-4696-af96-e3ef1af01c05"
      },
      "execution_count": null,
      "outputs": [
        {
          "output_type": "stream",
          "name": "stdout",
          "text": [
            "Limite superior permitido 5.0\n",
            "Limite interior permitido -3.0\n"
          ]
        }
      ]
    },
    {
      "cell_type": "code",
      "source": [
        "#Encontramos outliers del dataframe\n",
        "outliers_iqr=last_mile_customer[(y<Limite_Superior_iqr)|(y>Limite_Inferior_iqr)]\n",
        "outliers_iqr#encuentra los valores que se salen del rango de los límites"
      ],
      "metadata": {
        "id": "nixxDOIIhscV"
      },
      "execution_count": null,
      "outputs": []
    },
    {
      "cell_type": "code",
      "source": [
        "#Obtenemos datos limpios\n",
        "data_clean_iqr=last_mile_customer[(y<=Limite_Superior_iqr)&(y>=Limite_Inferior_iqr)]\n",
        "data_clean_iqr#genera los datos limpios de la columna sin valores atípicos"
      ],
      "metadata": {
        "id": "djkMAv-PjAmH"
      },
      "execution_count": null,
      "outputs": []
    },
    {
      "cell_type": "code",
      "source": [
        "#Realizamos diagrama de caja o bigote de cada columna del \n",
        "fig=plt.figure(figsize=(15,8)) #muestra el tamaño de la figura\n",
        "plt.boxplot(data_clean_iqr[\"number_of_customers_in_store\"])#gráfica la caja con los valores ya dentro de los límites de una columna\n",
        "plt.title(\"Outliers de number_of_customers_in_store\") #titulo de la grafica\n",
        "plt.show()# Dibujamos el diagrama \n"
      ],
      "metadata": {
        "colab": {
          "base_uri": "https://localhost:8080/",
          "height": 499
        },
        "id": "yRSEoAMukImO",
        "outputId": "afe6663a-456e-4a84-b0a5-c2c68f40f095"
      },
      "execution_count": null,
      "outputs": [
        {
          "output_type": "display_data",
          "data": {
            "text/plain": [
              "<Figure size 1080x576 with 1 Axes>"
            ],
            "image/png": "[encoded data removed]"
          },
          "metadata": {
            "needs_background": "light"
          }
        }
      ]
    },
    {
      "cell_type": "code",
      "source": [
        "#Realizamos una copia del dataframe\n",
        "micro=last_mile_customer.copy()"
      ],
      "metadata": {
        "id": "5-EzGc5rUqeq"
      },
      "execution_count": null,
      "outputs": []
    },
    {
      "cell_type": "code",
      "source": [
        "from numpy.lib.function_base import percentile\n",
        "#Metodo aplicando Cuartiles. Encuentro cuartilies 0.25 y 0.75\n",
        "y=micro['number_of_suppliers_in_store']#llama a la columna a la que se le quitarán los valores atípicos\n",
        "percentile25=y.quantile(0.25) #Q1#se usa un porcentaje de 25 como límite inferior\n",
        "percentile75=y.quantile(0.75) #Q3#se usa un porcentaje de 25 como límite superior\n",
        "iqr=percentile75 -percentile25#hace la resta de los límites\n",
        "Limite_Superior_iqr=percentile75+1.5*iqr #mide la dispersión con el limite superior\n",
        "Limite_Inferior_iqr=percentile25-1.5*iqr #mide la dispersión con el limite inferior\n",
        "print(\"Limite superior permitido\", Limite_Superior_iqr)\n",
        "print(\"Limite interior permitido\", Limite_Inferior_iqr) #muestran los valores de los límites permitidos                "
      ],
      "metadata": {
        "colab": {
          "base_uri": "https://localhost:8080/"
        },
        "id": "vEeZUu0_m8vQ",
        "outputId": "c40b8c3d-b008-4c26-ec86-9005c2dafaf7"
      },
      "execution_count": null,
      "outputs": [
        {
          "output_type": "stream",
          "name": "stdout",
          "text": [
            "Limite superior permitido 3.5\n",
            "Limite interior permitido -0.5\n"
          ]
        }
      ]
    },
    {
      "cell_type": "code",
      "source": [
        "#Encontramos outliers del dataframe\n",
        "outliers_iqr=last_mile_customer[(y>Limite_Superior_iqr)|(y<Limite_Inferior_iqr)]\n",
        "outliers_iqr"
      ],
      "metadata": {
        "id": "AZoaupmhnZnH"
      },
      "execution_count": null,
      "outputs": []
    },
    {
      "cell_type": "code",
      "source": [
        "#Obtenemos datos limpios\n",
        "data_clean_iqr=micro[(y<=Limite_Superior_iqr)&(y>=Limite_Inferior_iqr)]\n",
        "data_clean_iqr"
      ],
      "metadata": {
        "id": "cgVL_Cwtni7a"
      },
      "execution_count": null,
      "outputs": []
    },
    {
      "cell_type": "code",
      "source": [
        "#Realizamos diagrama de caja o bigote de cada columna del \n",
        "fig=plt.figure(figsize=(15,8)) #muestra el tamaño de la figura\n",
        "plt.boxplot(data_clean_iqr[\"number_of_suppliers_in_store\"])#gráfica la caja con los valores ya dentro de los límites de una columna\n",
        "plt.title(\"Outliers de number_of_suppliers_in_store\") #titulo de la grafica\n",
        "plt.show()# Dibujamos el diagrama \n",
        "\n"
      ],
      "metadata": {
        "colab": {
          "base_uri": "https://localhost:8080/",
          "height": 499
        },
        "id": "efZweJfmnr5p",
        "outputId": "ba573543-a188-4d7b-f362-b94ba7ea75fa"
      },
      "execution_count": null,
      "outputs": [
        {
          "output_type": "display_data",
          "data": {
            "text/plain": [
              "<Figure size 1080x576 with 1 Axes>"
            ],
            "image/png": "[encoded data removed]"
          },
          "metadata": {
            "needs_background": "light"
          }
        }
      ]
    },
    {
      "cell_type": "code",
      "source": [
        "#Realizamos una copia del dataframe\n",
        "data3=data_clean_iqr.copy()"
      ],
      "metadata": {
        "id": "Nfl8xJOdoFow"
      },
      "execution_count": null,
      "outputs": []
    },
    {
      "cell_type": "code",
      "source": [
        "from numpy.lib.function_base import percentile\n",
        "#Metodo aplicando Cuartiles. Encuentro cuartilies 0.25 y 0.75\n",
        "y=micro['number_of_cases_boxes_delivered']\n",
        "percentile25=y.quantile(0.25) #Q1\n",
        "percentile75=y.quantile(0.75) #Q3\n",
        "iqr=percentile75 -percentile25\n",
        "Limite_superior_iqr=percentile75 + 1.5*iqr\n",
        "Limite_inferior_iqr=percentile25 - 1.5*iqr\n",
        "print('Limite superior permitido',Limite_superior_iqr)\n",
        "print('Limite inferior permitido', Limite_inferior_iqr)"
      ],
      "metadata": {
        "colab": {
          "base_uri": "https://localhost:8080/"
        },
        "id": "4lAt_hz5oxgZ",
        "outputId": "2daf7d7a-8955-44d7-e2f4-6c546fca03ee"
      },
      "execution_count": null,
      "outputs": [
        {
          "output_type": "stream",
          "name": "stdout",
          "text": [
            "Limite superior permitido 12.0\n",
            "Limite inferior permitido -4.0\n"
          ]
        }
      ]
    },
    {
      "cell_type": "code",
      "source": [
        "#Encontramos outliers del dataframe\n",
        "outliers_iqr=micro[(y<Limite_superior_iqr)|(y>Limite_inferior_iqr)]\n",
        "outliers_iqr"
      ],
      "metadata": {
        "id": "JbpZvzrHo803"
      },
      "execution_count": null,
      "outputs": []
    },
    {
      "cell_type": "code",
      "source": [
        "#Realizamos diagrama de caja o bigote de cada columna del \n",
        "fig=plt.figure(figsize=(5,5))\n",
        "plt.boxplot(data_clean_iqr[\"number_of_cases_boxes_delivered\"])\n",
        "plt.title(\"Outliers de number_of_cases_boxes_delivered\")\n",
        "plt.show()# Dibujamos el diagrama "
      ],
      "metadata": {
        "colab": {
          "base_uri": "https://localhost:8080/",
          "height": 336
        },
        "id": "FFA2Pm_Po_Jj",
        "outputId": "29ccc23d-ad54-4592-ad38-25f0f1afc3f9"
      },
      "execution_count": null,
      "outputs": [
        {
          "output_type": "display_data",
          "data": {
            "text/plain": [
              "<Figure size 360x360 with 1 Axes>"
            ],
            "image/png": "[encoded data removed]"
          },
          "metadata": {
            "needs_background": "light"
          }
        }
      ]
    },
    {
      "cell_type": "code",
      "source": [
        "#Realizamos una copia del dataframe\n",
        "data3=data_clean_iqr.copy()"
      ],
      "metadata": {
        "id": "gndNnkZ30cm7"
      },
      "execution_count": null,
      "outputs": []
    },
    {
      "cell_type": "code",
      "source": [
        "from numpy.lib.function_base import percentile\n",
        "#Metodo aplicando Cuartiles. Encuentro cuartilies 0.25 y 0.75\n",
        "y=micro['_edited_duration']\n",
        "percentile25=y.quantile(0.25) #Q1\n",
        "percentile75=y.quantile(0.75) #Q3\n",
        "iqr=percentile75 -percentile25\n",
        "Limite_superior_iqr=percentile75 + 1.5*iqr\n",
        "Limite_inferior_iqr=percentile25 - 1.5*iqr\n",
        "print('Limite superior permitido',Limite_superior_iqr)\n",
        "print('Limite inferior permitido', Limite_inferior_iqr)"
      ],
      "metadata": {
        "colab": {
          "base_uri": "https://localhost:8080/"
        },
        "id": "q7GRImqv0idD",
        "outputId": "912f7a8b-2889-4ce4-bdb9-ad75e9a8d66c"
      },
      "execution_count": null,
      "outputs": [
        {
          "output_type": "stream",
          "name": "stdout",
          "text": [
            "Limite superior permitido 172.0\n",
            "Limite inferior permitido -32.0\n"
          ]
        }
      ]
    },
    {
      "cell_type": "code",
      "source": [
        "#Encontramos outliers del dataframe\n",
        "outliers_iqr=last_mile_customer[(y<Limite_superior_iqr)|(y>Limite_inferior_iqr)]\n",
        "outliers_iqr"
      ],
      "metadata": {
        "id": "zwGumUTB0t8y"
      },
      "execution_count": null,
      "outputs": []
    },
    {
      "cell_type": "code",
      "source": [
        "#Realizamos diagrama de caja o bigote de cada columna del \n",
        "fig=plt.figure(figsize=(5,5))\n",
        "plt.boxplot(data_clean_iqr[\"_edited_duration\"])\n",
        "plt.title(\"_edited_duration\")\n",
        "plt.show()# Dibujamos el diagrama "
      ],
      "metadata": {
        "colab": {
          "base_uri": "https://localhost:8080/",
          "height": 336
        },
        "id": "hZgIW0IC015q",
        "outputId": "c3e6df20-7858-4e7a-adf9-5b6ff8afce5b"
      },
      "execution_count": null,
      "outputs": [
        {
          "output_type": "display_data",
          "data": {
            "text/plain": [
              "<Figure size 360x360 with 1 Axes>"
            ],
            "image/png": "[encoded data removed]"
          },
          "metadata": {
            "needs_background": "light"
          }
        }
      ]
    },
    {
      "cell_type": "code",
      "source": [
        "#Realizamos una copia del dataframe\n",
        "data3=data_clean_iqr.copy()"
      ],
      "metadata": {
        "id": "WASaWFJD1afu"
      },
      "execution_count": null,
      "outputs": []
    },
    {
      "cell_type": "code",
      "source": [
        "from numpy.lib.function_base import percentile\n",
        "#Metodo aplicando Cuartiles. Encuentro cuartilies 0.25 y 0.75\n",
        "y=last_mile_customer['_updated_duration']\n",
        "percentile25=y.quantile(0.25) #Q1\n",
        "percentile75=y.quantile(0.75) #Q3\n",
        "iqr=percentile75 -percentile25\n",
        "Limite_superior_iqr=percentile75 + 1.5*iqr\n",
        "Limite_inferior_iqr=percentile25 - 1.5*iqr\n",
        "print('Limite superior permitido',Limite_superior_iqr)\n",
        "print('Limite inferior permitido', Limite_inferior_iqr)"
      ],
      "metadata": {
        "colab": {
          "base_uri": "https://localhost:8080/"
        },
        "id": "Vof9XNma1WsD",
        "outputId": "93080602-8c03-4700-a990-56f53d6a0ec3"
      },
      "execution_count": null,
      "outputs": [
        {
          "output_type": "stream",
          "name": "stdout",
          "text": [
            "Limite superior permitido 177.25\n",
            "Limite inferior permitido -40.75\n"
          ]
        }
      ]
    },
    {
      "cell_type": "code",
      "source": [
        "#Encontramos outliers del dataframe\n",
        "outliers_iqr=micro[(y<Limite_superior_iqr)|(y>Limite_inferior_iqr)]\n",
        "outliers_iqr"
      ],
      "metadata": {
        "id": "mW00Cuaw1mAb"
      },
      "execution_count": null,
      "outputs": []
    },
    {
      "cell_type": "code",
      "source": [
        "#Realizamos diagrama de caja o bigote de cada columna del \n",
        "fig=plt.figure(figsize=(5,7))#Tamaño de la grafica\n",
        "plt.boxplot(data_clean_iqr[\"_updated_duration\"])#pone los valores dentro d elos limites\n",
        "plt.title(\"_updated_duration\")#se pone el titulo del caja\n",
        "plt.show()# Dibujamos el diagrama "
      ],
      "metadata": {
        "id": "36YMLhM51pLk"
      },
      "execution_count": null,
      "outputs": []
    },
    {
      "cell_type": "code",
      "source": [
        "from numpy.lib.function_base import percentile  \n",
        "#Metodo aplicando Cuartiles. Encuentro cuartilies 0.25 y 0.75\n",
        "y=last_mile_customer['_created_duration']#llama a la columna a la que se le quitarán los valores atípicos\n",
        "percentile25=y.quantile(0.25) #Q1#se usa un porcentaje de 25 como límite inferior\n",
        "percentile75=y.quantile(0.75) #Q3#se usa un porcentaje de 25 como límite superior\n",
        "iqr=percentile75 -percentile25#hace la resta de los límites\n",
        "Limite_Superior_iqr=percentile75+1.5*iqr #mide la dispersión con el limite superior\n",
        "Limite_Inferior_iqr=percentile25-1.5*iqr #mide la dispersión con el limite inferior\n",
        "print(\"Limite superior permitido\", Limite_Superior_iqr)\n",
        "print(\"Limite interior permitido\", Limite_Inferior_iqr) #muestran los valores de los límites permitidos"
      ],
      "metadata": {
        "colab": {
          "base_uri": "https://localhost:8080/"
        },
        "id": "7ojW7v7X0Xgp",
        "outputId": "de1a2cbd-4f96-446b-c0ce-def685f4b20a"
      },
      "execution_count": null,
      "outputs": [
        {
          "output_type": "stream",
          "name": "stdout",
          "text": [
            "Limite superior permitido 0.0\n",
            "Limite interior permitido 0.0\n"
          ]
        }
      ]
    },
    {
      "cell_type": "code",
      "source": [
        "#Encontramos outliers del dataframe\n",
        "outliers_iqr=micro[(y<Limite_superior_iqr)|(y>Limite_inferior_iqr)]\n",
        "outliers_iqr"
      ],
      "metadata": {
        "id": "iVhyN5DO0f0k"
      },
      "execution_count": null,
      "outputs": []
    },
    {
      "cell_type": "code",
      "source": [
        "#Realizamos diagrama de caja o bigote de cada columna del \n",
        "fig=plt.figure(figsize=(5,7))#Tamaño de la grafica\n",
        "plt.boxplot(data_clean_iqr[\"_created_duration\"])#pone los valores dentro d elos limites\n",
        "plt.title(\"_created_duration\")#se pone el titulo del caja\n",
        "plt.show()# Dibujamos el diagrama "
      ],
      "metadata": {
        "id": "9NEMK4VV0isb"
      },
      "execution_count": null,
      "outputs": []
    },
    {
      "cell_type": "code",
      "source": [
        "from numpy.lib.function_base import percentile  \n",
        "#Metodo aplicando Cuartiles. Encuentro cuartilies 0.25 y 0.75\n",
        "y=last_mile_customer['_longitude']#llama a la columna a la que se le quitarán los valores atípicos\n",
        "percentile25=y.quantile(0.25) #Q1#se usa un porcentaje de 25 como límite inferior\n",
        "percentile75=y.quantile(0.75) #Q3#se usa un porcentaje de 25 como límite superior\n",
        "iqr=percentile75 -percentile25#hace la resta de los límites\n",
        "Limite_Superior_iqr=percentile75+1.5*iqr #mide la dispersión con el limite superior\n",
        "Limite_Inferior_iqr=percentile25-1.5*iqr #mide la dispersión con el limite inferior\n",
        "print(\"Limite superior permitido\", Limite_Superior_iqr)\n",
        "print(\"Limite interior permitido\", Limite_Inferior_iqr) #muestran los valores de los límites permitidos"
      ],
      "metadata": {
        "colab": {
          "base_uri": "https://localhost:8080/"
        },
        "id": "MeXvkJQ606Qg",
        "outputId": "5c2fd9f8-9b06-4f51-f08a-620d21516fbb"
      },
      "execution_count": null,
      "outputs": [
        {
          "output_type": "stream",
          "name": "stdout",
          "text": [
            "Limite superior permitido -98.181766665\n",
            "Limite interior permitido -98.31911062500001\n"
          ]
        }
      ]
    },
    {
      "cell_type": "code",
      "source": [
        "#Encontramos outliers del dataframe\n",
        "outliers_iqr=micro[(y<Limite_superior_iqr)|(y>Limite_inferior_iqr)]\n",
        "outliers_iqr"
      ],
      "metadata": {
        "id": "M0p0CgoG1WZx"
      },
      "execution_count": null,
      "outputs": []
    },
    {
      "cell_type": "code",
      "source": [
        "#Realizamos diagrama de caja o bigote de cada columna del \n",
        "fig=plt.figure(figsize=(5,7))#Tamaño de la grafica\n",
        "plt.boxplot(data_clean_iqr[\"_longitude\"])#pone los valores dentro d elos limites\n",
        "plt.title(\"_longitude\")#se pone el titulo del caja\n",
        "plt.show()# Dibujamos el diagrama "
      ],
      "metadata": {
        "id": "q1vRLN_91YZA"
      },
      "execution_count": null,
      "outputs": []
    },
    {
      "cell_type": "code",
      "source": [
        "from numpy.lib.function_base import percentile  \n",
        "#Metodo aplicando Cuartiles. Encuentro cuartilies 0.25 y 0.75\n",
        "y=last_mile_customer['_latitude']#llama a la columna a la que se le quitarán los valores atípicos\n",
        "percentile25=y.quantile(0.25) #Q1#se usa un porcentaje de 25 como límite inferior\n",
        "percentile75=y.quantile(0.75) #Q3#se usa un porcentaje de 25 como límite superior\n",
        "iqr=percentile75 -percentile25#hace la resta de los límites\n",
        "Limite_Superior_iqr=percentile75+1.5*iqr #mide la dispersión con el limite superior\n",
        "Limite_Inferior_iqr=percentile25-1.5*iqr #mide la dispersión con el limite inferior\n",
        "print(\"Limite superior permitido\", Limite_Superior_iqr)\n",
        "print(\"Limite interior permitido\", Limite_Inferior_iqr) #muestran los valores de los límites permitidos"
      ],
      "metadata": {
        "colab": {
          "base_uri": "https://localhost:8080/"
        },
        "id": "OfbA5uJ210U3",
        "outputId": "0cf36aa2-f1ed-44c4-d41d-16c3c7a92275"
      },
      "execution_count": null,
      "outputs": [
        {
          "output_type": "stream",
          "name": "stdout",
          "text": [
            "Limite superior permitido 19.11896076250001\n",
            "Limite interior permitido 18.935810422499998\n"
          ]
        }
      ]
    },
    {
      "cell_type": "code",
      "source": [
        "#Encontramos outliers del dataframe\n",
        "outliers_iqr=micro[(y<Limite_superior_iqr)|(y>Limite_inferior_iqr)]\n",
        "outliers_iqr"
      ],
      "metadata": {
        "id": "DBtt0dqP16Gw"
      },
      "execution_count": null,
      "outputs": []
    },
    {
      "cell_type": "code",
      "source": [
        "#Realizamos diagrama de caja o bigote de cada columna del \n",
        "fig=plt.figure(figsize=(5,7))#Tamaño de la grafica\n",
        "plt.boxplot(data_clean_iqr[\"_latitude\"])#pone los valores dentro d elos limites\n",
        "plt.title(\"_latitude\")#se pone el titulo del caja\n",
        "plt.show()# Dibujamos el diagrama "
      ],
      "metadata": {
        "id": "WBXo97yQ19l4"
      },
      "execution_count": null,
      "outputs": []
    },
    {
      "cell_type": "markdown",
      "source": [
        "**Convertir DataSet sin valores nulos a CSV**"
      ],
      "metadata": {
        "id": "jzjWlRl92Ki4"
      }
    },
    {
      "cell_type": "code",
      "source": [
        "#Convertir dataframe a CSV\n",
        "micro.to_csv(\"lastmile_delivery_operations_mit_lift_lab_serving_customer_NUEVO.csv\")\n",
        "#Descargar archivo filtrado en csv\n",
        "from google.colab import files\n",
        "\n",
        "\n",
        "files.download(\"lastmile_delivery_operations_mit_lift_lab_serving_customer_NUEVO.csv\")"
      ],
      "metadata": {
        "colab": {
          "base_uri": "https://localhost:8080/",
          "height": 17
        },
        "id": "3t6mA28xpRlt",
        "outputId": "a1079e30-2e8c-4098-f3c2-77c0619e5a49"
      },
      "execution_count": null,
      "outputs": [
        {
          "output_type": "display_data",
          "data": {
            "text/plain": [
              "<IPython.core.display.Javascript object>"
            ],
            "application/javascript": [
              "\n",
              "    async function download(id, filename, size) {\n",
              "      if (!google.colab.kernel.accessAllowed) {\n",
              "        return;\n",
              "      }\n",
              "      const div = document.createElement('div');\n",
              "      const label = document.createElement('label');\n",
              "      label.textContent = `Downloading \"${filename}\": `;\n",
              "      div.appendChild(label);\n",
              "      const progress = document.createElement('progress');\n",
              "      progress.max = size;\n",
              "      div.appendChild(progress);\n",
              "      document.body.appendChild(div);\n",
              "\n",
              "      const buffers = [];\n",
              "      let downloaded = 0;\n",
              "\n",
              "      const channel = await google.colab.kernel.comms.open(id);\n",
              "      // Send a message to notify the kernel that we're ready.\n",
              "      channel.send({})\n",
              "\n",
              "      for await (const message of channel.messages) {\n",
              "        // Send a message to notify the kernel that we're ready.\n",
              "        channel.send({})\n",
              "        if (message.buffers) {\n",
              "          for (const buffer of message.buffers) {\n",
              "            buffers.push(buffer);\n",
              "            downloaded += buffer.byteLength;\n",
              "            progress.value = downloaded;\n",
              "          }\n",
              "        }\n",
              "      }\n",
              "      const blob = new Blob(buffers, {type: 'application/binary'});\n",
              "      const a = document.createElement('a');\n",
              "      a.href = window.URL.createObjectURL(blob);\n",
              "      a.download = filename;\n",
              "      div.appendChild(a);\n",
              "      a.click();\n",
              "      div.remove();\n",
              "    }\n",
              "  "
            ]
          },
          "metadata": {}
        },
        {
          "output_type": "display_data",
          "data": {
            "text/plain": [
              "<IPython.core.display.Javascript object>"
            ],
            "application/javascript": [
              "download(\"download_0c086aea-5a23-4f72-8c5d-5cfb6c6beb9f\", \"lastmile_delivery_operations_mit_lift_lab_serving_customer_NUEVO.csv\", 23463)"
            ]
          },
          "metadata": {}
        }
      ]
    }
  ]
}