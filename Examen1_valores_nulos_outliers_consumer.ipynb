{
  "nbformat": 4,
  "nbformat_minor": 0,
  "metadata": {
    "colab": {
      "provenance": []
    },
    "kernelspec": {
      "name": "python3",
      "display_name": "Python 3"
    },
    "language_info": {
      "name": "python"
    }
  },
  "cells": [
    {
      "cell_type": "code",
      "execution_count": null,
      "metadata": {
        "id": "wZQYEKy_wYuP"
      },
      "outputs": [],
      "source": [
        "#Importamos librerias requeridas para que el código funcione\n",
        "import pandas as pd\n",
        "import numpy as np\n",
        "import matplotlib.pyplot as plt"
      ]
    },
    {
      "cell_type": "code",
      "source": [
        "#Cargar archivo .xlsx sin indice\n",
        "from google.colab import files #orden que hace que el código busque el documento en la computadora\n",
        "files.upload()"
      ],
      "metadata": {
        "id": "G9_D1gtF6OvG"
      },
      "execution_count": null,
      "outputs": []
    },
    {
      "cell_type": "code",
      "source": [
        "#Carga desde un archivo .xlsx sin indice \n",
        "consumer=pd.read_excel(\"consumer_mit_lift_lab.xlsx\") #lee el excel y se ponemos el nombre para que lo pueda leer"
      ],
      "metadata": {
        "id": "eTfzbt0m6h8C"
      },
      "execution_count": null,
      "outputs": []
    },
    {
      "cell_type": "code",
      "source": [
        "#Verificamos información del DataFrame\n",
        "consumer.info() #Se ve toda la forma del documento"
      ],
      "metadata": {
        "id": "3iOoAnA266Ld"
      },
      "execution_count": null,
      "outputs": []
    },
    {
      "cell_type": "code",
      "source": [
        "#Carga desde archivo excel sin indice\n",
        "data=pd.read_excel(\"consumer_mit_lift_lab.xlsx\")\n",
        "data.head() #te deja ver los primeros datos de las filas y columnas como excel"
      ],
      "metadata": {
        "id": "z8BrOnd67h6H"
      },
      "execution_count": null,
      "outputs": []
    },
    {
      "cell_type": "code",
      "source": [
        "#Corroboramos valores nulos\n",
        "valores_nulos=data.isnull().sum()\n",
        "valores_nulos #muestra los datos que tiene valores nulos y cuanto son"
      ],
      "metadata": {
        "id": "ftXziHie9Cpi"
      },
      "execution_count": null,
      "outputs": []
    },
    {
      "cell_type": "code",
      "source": [
        "#Realizamos una copia del dataframe\n",
        "data2=data.copy()"
      ],
      "metadata": {
        "id": "xjHO7cZNb1DM"
      },
      "execution_count": null,
      "outputs": []
    },
    {
      "cell_type": "markdown",
      "source": [
        "**Tenemos que elimianr valores nulos**"
      ],
      "metadata": {
        "id": "buyAlvOKZyrb"
      }
    },
    {
      "cell_type": "code",
      "source": [
        "#Tercer método de sustitución de valores nulos\n",
        "#Sustituir valores nulos por un string en concreto \n",
        "data2[\"300_did_not_find\"]=data2[\"300_did_not_find\"].fillna(\"x_producto\")\n",
        "data2 #Se usa un método de sustitución que quita los valores nulos y los rellena con los valores que se asignaron"
      ],
      "metadata": {
        "id": "3C1HO0sdZ1u9"
      },
      "execution_count": null,
      "outputs": []
    },
    {
      "cell_type": "code",
      "source": [
        "#Corroboramos valores nulos\n",
        "valores_nulos=data2.isnull().sum()\n",
        "valores_nulos #se corrobora que haya quitado los nulos de la columna anterior"
      ],
      "metadata": {
        "id": "XP57a8NDcJPe"
      },
      "execution_count": null,
      "outputs": []
    },
    {
      "cell_type": "code",
      "source": [
        "#Se usa el mismo tipo de método para quitar valores nulos en todos los que lo necesitan \n",
        "data2[\"284_additional_products_store\"]=data2[\"284_additional_products_store\"].fillna(\"284_additional_products_store\")\n",
        "data2 #Se usa un método de sustitución que quita los valores nulos y los rellena con los valores que se asignaron"
      ],
      "metadata": {
        "id": "kGCuZb3Ld01K"
      },
      "execution_count": null,
      "outputs": []
    },
    {
      "cell_type": "code",
      "source": [
        "#Corroboramos valores nulos\n",
        "valores_nulos=data2.isnull().sum()\n",
        "valores_nulos"
      ],
      "metadata": {
        "id": "CAEr9o4Od8W8"
      },
      "execution_count": null,
      "outputs": []
    },
    {
      "cell_type": "code",
      "source": [
        "#Sexto método de sustitución de valores nulos\n",
        "#Sustituir valores nulos por valores no nulos hacia atras \"backward fill\"(\"bfill\")\n",
        "#Filtro por columnas\n",
        "data2[\"305_electricity_bill_store\"]=data2[\"305_electricity_bill_store\"].fillna(method=\"bfill\")\n",
        "data2"
      ],
      "metadata": {
        "id": "MG8i-wP2eIN1"
      },
      "execution_count": null,
      "outputs": []
    },
    {
      "cell_type": "code",
      "source": [
        "#Corroboramos valores nulos\n",
        "valores_nulos=data2.isnull().sum()\n",
        "valores_nulos"
      ],
      "metadata": {
        "id": "mCrVrcnTePJl"
      },
      "execution_count": null,
      "outputs": []
    },
    {
      "cell_type": "code",
      "source": [
        "#Mismo método que la línea 13 y 15\n",
        "#Sustituir valores nulos por un valor numérico o string en concreto\n",
        "data2[\"306_water_bill_store\"]=data2[\"306_water_bill_store\"].fillna(\"306_water_bill_store\")\n",
        "data2"
      ],
      "metadata": {
        "id": "9prxcDeseRwl"
      },
      "execution_count": null,
      "outputs": []
    },
    {
      "cell_type": "code",
      "source": [
        "#Corroboramos valores nulos\n",
        "valores_nulos=data2.isnull().sum()\n",
        "valores_nulos"
      ],
      "metadata": {
        "id": "nGHQ9YZgeZEQ"
      },
      "execution_count": null,
      "outputs": []
    },
    {
      "cell_type": "code",
      "source": [
        "#Método de sustitución de valores nulos\n",
        "#Sustituir valores nulos por valores no nulos hacia atras \"backward fill\"(\"bfill\")\n",
        "#Filtro por columnas\n",
        "data2[\"307_gas_bill_store\"]=data2[\"307_gas_bill_store\"].fillna(method=\"bfill\")\n",
        "data2"
      ],
      "metadata": {
        "id": "mBT1_dQcedGn"
      },
      "execution_count": null,
      "outputs": []
    },
    {
      "cell_type": "code",
      "source": [
        "#Corroboramos valores nulos\n",
        "valores_nulos=data2.isnull().sum()\n",
        "valores_nulos"
      ],
      "metadata": {
        "id": "hs77JUTXekTE"
      },
      "execution_count": null,
      "outputs": []
    },
    {
      "cell_type": "code",
      "source": [
        "#Método de sustitución de valores nulos\n",
        "#Sustituir valores nulos por un valor numérico o string en concreto\n",
        "data2[\"308_topups_in_store\"]=data2[\"308_topups_in_store\"].fillna(\"308_topups_in_store\")\n",
        "data2"
      ],
      "metadata": {
        "id": "dTcQPN1lemXm"
      },
      "execution_count": null,
      "outputs": []
    },
    {
      "cell_type": "code",
      "source": [
        "#Corroboramos valores nulos\n",
        "valores_nulos=data2.isnull().sum()\n",
        "valores_nulos"
      ],
      "metadata": {
        "id": "aFTprLGPeu2H"
      },
      "execution_count": null,
      "outputs": []
    },
    {
      "cell_type": "code",
      "source": [
        "#Método de sustitución de valores nulos\n",
        "#Sustituir valores nulos por valores no nulos hacia atras \"backward fill\"(\"bfill\")\n",
        "#Filtro por columnas\n",
        "data2[\"309_wiretransfers_in_store\"]=data2[\"309_wiretransfers_in_store\"].fillna(method=\"bfill\")\n",
        "data2"
      ],
      "metadata": {
        "id": "uUzC347cewvc"
      },
      "execution_count": null,
      "outputs": []
    },
    {
      "cell_type": "code",
      "source": [
        "#Corroboramos valores nulos\n",
        "valores_nulos=data2.isnull().sum()\n",
        "valores_nulos"
      ],
      "metadata": {
        "id": "UwUyUZeae3z4"
      },
      "execution_count": null,
      "outputs": []
    },
    {
      "cell_type": "code",
      "source": [
        "#Método de sustitución de valores nulos\n",
        "#Sustituir valores nulos por un valor numérico en concreto\n",
        "data2[\"304_additional_services_store\"]=data2[\"304_additional_services_store\"].fillna(\"304_additional_services_store\")\n",
        "data2"
      ],
      "metadata": {
        "id": "rOFrjCUte7Tu"
      },
      "execution_count": null,
      "outputs": []
    },
    {
      "cell_type": "code",
      "source": [
        "#Corroboramos valores nulos\n",
        "valores_nulos=data2.isnull().sum()\n",
        "valores_nulos"
      ],
      "metadata": {
        "id": "FWDJNSKlfCRy"
      },
      "execution_count": null,
      "outputs": []
    },
    {
      "cell_type": "code",
      "source": [
        "#Método de sustitución de valores nulos\n",
        "#Sustituir valores nulos por valores no nulos hacia atras \"backward fill\"(\"bfill\")\n",
        "#Filtro por columnas\n",
        "data2[\"storefront_picture_just_once_if_possible\"]=data2[\"storefront_picture_just_once_if_possible\"].fillna(method=\"bfill\")\n",
        "data2"
      ],
      "metadata": {
        "id": "MoawPLpQfHhi"
      },
      "execution_count": null,
      "outputs": []
    },
    {
      "cell_type": "code",
      "source": [
        "#Corroboramos valores nulos\n",
        "valores_nulos=data2.isnull().sum()\n",
        "valores_nulos #se usa para ver que ya no haya valores nulos en la columna que se eligió"
      ],
      "metadata": {
        "id": "llMkrCeEfRIm"
      },
      "execution_count": null,
      "outputs": []
    },
    {
      "cell_type": "code",
      "source": [
        "#Corroboramos valores nulos\n",
        "valores_nulos=data2.isnull().sum().sum()\n",
        "valores_nulos #se usa para poder corrobar que ya no haya ningún valor nulo en ninguna de las columnas"
      ],
      "metadata": {
        "id": "EWW7RyAHfTMr",
        "colab": {
          "base_uri": "https://localhost:8080/"
        },
        "outputId": "8c4f0121-3f5f-4a99-dce5-365015d69daf"
      },
      "execution_count": null,
      "outputs": [
        {
          "output_type": "execute_result",
          "data": {
            "text/plain": [
              "0"
            ]
          },
          "metadata": {},
          "execution_count": 27
        }
      ]
    },
    {
      "cell_type": "markdown",
      "source": [
        "**Procedimiento \"Cuantiles\" para sustituir outliers en dataframe**"
      ],
      "metadata": {
        "id": "SPcyQ_BngDjc"
      }
    },
    {
      "cell_type": "code",
      "source": [
        "#Realizamos diagrama de caja o bigote de cada columna del dataframe\n",
        "fig=plt.figure(figsize=(15,8)) #muestra el tamaño en que se muestra la imagen\n",
        "data2.plot(kind=\"box\",vert=False) #genera la caja o bigote y la grafica de todas las columnas que contengan valores atípicos\n",
        "plt.title(\"Valores atípicos del DataFrame\") # coloca el nombre de la grafica \n",
        "plt.show() #dibujamos el diagrama"
      ],
      "metadata": {
        "id": "r6vsjmUAh2Q0",
        "colab": {
          "base_uri": "https://localhost:8080/",
          "height": 298
        },
        "outputId": "4fdf7725-997f-4ba0-b199-f3e90cac0bda"
      },
      "execution_count": null,
      "outputs": [
        {
          "output_type": "display_data",
          "data": {
            "text/plain": [
              "<Figure size 1080x576 with 0 Axes>"
            ]
          },
          "metadata": {}
        },
        {
          "output_type": "display_data",
          "data": {
            "text/plain": [
              "<Figure size 432x288 with 1 Axes>"
            ],
            "image/png": "[encoded data removed]"
          },
          "metadata": {
            "needs_background": "light"
          }
        }
      ]
    },
    {
      "cell_type": "code",
      "source": [
        "#Método aplicando Cuartiles. Encuentro cuartiles 0.25 y 0.75 \n",
        "y=data2[\"241_age_of_the_interviewee\"] #llama a la columna a la que se le quitarán los valores atípicos\n",
        "percentile25=y.quantile(0.25) #se usa un porcentaje de 25 como límite inferior\n",
        "percentile75=y.quantile(0.75) #se usa un porcentaje de 25 como límite superior\n",
        "iqr=percentile75 - percentile25 #hace la resta de los límites\n",
        "\n",
        "Limite_Superior_iqr=percentile75+1.5*iqr #mide la dispersión con el limite superior\n",
        "Limite_Inferior_iqr=percentile25-1.5*iqr #mide la dispersión con el limite inferior\n",
        "print(\"Limite superior permitido\", Limite_Superior_iqr)\n",
        "print(\"Limite interior permitido\", Limite_Inferior_iqr) #muestran los valores de los límites permitidos"
      ],
      "metadata": {
        "id": "49HH_BAogIMo",
        "colab": {
          "base_uri": "https://localhost:8080/"
        },
        "outputId": "0e8efaae-c4e4-467d-bec2-44e81319c3e0"
      },
      "execution_count": null,
      "outputs": [
        {
          "output_type": "stream",
          "name": "stdout",
          "text": [
            "Limite superior permitido 65.0\n",
            "Limite interior permitido -7.0\n"
          ]
        }
      ]
    },
    {
      "cell_type": "code",
      "source": [
        "#Encontramos outliers del dataframe\n",
        "outliers_iqr=data2[(y>Limite_Superior_iqr)|(y<Limite_Inferior_iqr)]\n",
        "outliers_iqr #encuentra los valores que se salen del rango de los límites"
      ],
      "metadata": {
        "id": "dZBnl7Zlgo_U"
      },
      "execution_count": null,
      "outputs": []
    },
    {
      "cell_type": "code",
      "source": [
        "#Obtenemos datos limpios del DataFrame\n",
        "data4_iqr=data2[(y<=Limite_Superior_iqr)&(y>=Limite_Inferior_iqr)]\n",
        "data4_iqr #genera los datos limpios de la columna sin valores atípicos"
      ],
      "metadata": {
        "id": "j0ypSKPVgssX"
      },
      "execution_count": null,
      "outputs": []
    },
    {
      "cell_type": "code",
      "source": [
        "#Realizamos diagrama de caja o bigote de cada columna del dataframe\n",
        "fig=plt.figure(figsize=(5,3)) #muestra el tamaño de la figura\n",
        "plt.boxplot(data3_iqr[\"241_age_of_the_interviewee\"]) #gráfica la caja con los valores ya dentro de los límites de una columna\n",
        "plt.title(\"Valores atípicos de la edad de los entrevistados\") #titulo de la grafica\n",
        "plt.show() #dibujamos el diagrama"
      ],
      "metadata": {
        "id": "hfUROrCximg6"
      },
      "execution_count": null,
      "outputs": []
    },
    {
      "cell_type": "code",
      "source": [
        "#Realizamos una copia del dataframe\n",
        "consumer=data4_iqr.copy()"
      ],
      "metadata": {
        "id": "EgbL9NXPktFN"
      },
      "execution_count": null,
      "outputs": []
    },
    {
      "cell_type": "markdown",
      "source": [
        "Se hace el mismo procedimiento para todas las columnas con datos atípicos "
      ],
      "metadata": {
        "id": "lJjpYx-sdOXA"
      }
    },
    {
      "cell_type": "code",
      "source": [
        "#Método aplicando Cuartiles. Encuentro cuartiles 0.25 y 0.75 \n",
        "y=data2[\"84_willingness_sameday_delivery\"]\n",
        "percentile25=y.quantile(0.25)\n",
        "percentile75=y.quantile(0.75)\n",
        "iqr=percentile75 - percentile25\n",
        "\n",
        "Limite_Superior_iqr=percentile75+1.5*iqr\n",
        "Limite_Inferior_iqr=percentile25-1.5*iqr\n",
        "print(\"Limite superior permitido\", Limite_Superior_iqr)\n",
        "print(\"Limite interior permitido\", Limite_Inferior_iqr)"
      ],
      "metadata": {
        "colab": {
          "base_uri": "https://localhost:8080/"
        },
        "id": "5W-KmN3Kjjwh",
        "outputId": "83e46908-d424-422a-db02-2d9aa54da12e"
      },
      "execution_count": null,
      "outputs": [
        {
          "output_type": "stream",
          "name": "stdout",
          "text": [
            "Limite superior permitido 231.25\n",
            "Limite interior permitido -118.75\n"
          ]
        }
      ]
    },
    {
      "cell_type": "code",
      "source": [
        "#Encontramos outliers del dataframe\n",
        "outliers_iqr=data2[(y>Limite_Superior_iqr)|(y<Limite_Inferior_iqr)]\n",
        "outliers_iqr"
      ],
      "metadata": {
        "id": "RWlVbY24kFzb"
      },
      "execution_count": null,
      "outputs": []
    },
    {
      "cell_type": "code",
      "source": [
        "#Obtenemos datos limpios del DataFrame\n",
        "data3_iqr=data2[(y<=Limite_Superior_iqr)&(y>=Limite_Inferior_iqr)]\n",
        "data3_iqr"
      ],
      "metadata": {
        "id": "SnjrnwEykJ1d"
      },
      "execution_count": null,
      "outputs": []
    },
    {
      "cell_type": "code",
      "source": [
        "#Realizamos diagrama de caja o bigote de cada columna del dataframe\n",
        "fig=plt.figure(figsize=(5,3))\n",
        "plt.boxplot(data3_iqr[\"84_willingness_sameday_delivery\"])\n",
        "plt.title(\"Valores atípicos del DataFrame\")\n",
        "plt.show() #dibujamos el diagrama"
      ],
      "metadata": {
        "id": "-Hahg2tMkNIx",
        "colab": {
          "base_uri": "https://localhost:8080/",
          "height": 227
        },
        "outputId": "09e43de9-0d80-40c1-f940-7e7f80741b7e"
      },
      "execution_count": null,
      "outputs": [
        {
          "output_type": "display_data",
          "data": {
            "text/plain": [
              "<Figure size 360x216 with 1 Axes>"
            ],
            "image/png": "[encoded data removed]"
          },
          "metadata": {
            "needs_background": "light"
          }
        }
      ]
    },
    {
      "cell_type": "code",
      "source": [
        "#Realizamos una copia del dataframe\n",
        "consumer=data4_iqr.copy()"
      ],
      "metadata": {
        "id": "ThFil7UnpRFK"
      },
      "execution_count": null,
      "outputs": []
    },
    {
      "cell_type": "code",
      "source": [
        "#Método aplicando Cuartiles. Encuentro cuartiles 0.25 y 0.75 \n",
        "y=data2[\"83_willingness_ultrafast_delivery\"]\n",
        "percentile25=y.quantile(0.25)\n",
        "percentile75=y.quantile(0.75)\n",
        "iqr=percentile75 - percentile25\n",
        "\n",
        "Limite_Superior_iqr=percentile75+1.5*iqr\n",
        "Limite_Inferior_iqr=percentile25-1.5*iqr\n",
        "print(\"Limite superior permitido\", Limite_Superior_iqr)\n",
        "print(\"Limite interior permitido\", Limite_Inferior_iqr)"
      ],
      "metadata": {
        "colab": {
          "base_uri": "https://localhost:8080/"
        },
        "id": "eM02Mf-2p1nT",
        "outputId": "aeb131cf-fc10-4db9-d67c-783f2a36cfad"
      },
      "execution_count": null,
      "outputs": [
        {
          "output_type": "stream",
          "name": "stdout",
          "text": [
            "Limite superior permitido 102.5\n",
            "Limite interior permitido -37.5\n"
          ]
        }
      ]
    },
    {
      "cell_type": "code",
      "source": [
        "#Encontramos outliers del dataframe\n",
        "outliers_iqr=data2[(y>Limite_Superior_iqr)|(y<Limite_Inferior_iqr)]\n",
        "outliers_iqr"
      ],
      "metadata": {
        "id": "RDGchiN_qBZR"
      },
      "execution_count": null,
      "outputs": []
    },
    {
      "cell_type": "code",
      "source": [
        "#Obtenemos datos limpios del DataFrame\n",
        "data3_iqr=data2[(y<=Limite_Superior_iqr)&(y>=Limite_Inferior_iqr)]\n",
        "data3_iqr"
      ],
      "metadata": {
        "id": "cVRvu50YqJpZ"
      },
      "execution_count": null,
      "outputs": []
    },
    {
      "cell_type": "code",
      "source": [
        "#Realizamos diagrama de caja o bigote de cada columna del dataframe\n",
        "fig=plt.figure(figsize=(5,3))\n",
        "plt.boxplot(data3_iqr[\"83_willingness_ultrafast_delivery\"])\n",
        "plt.title(\"Valores atípicos del DataFrame\")\n",
        "plt.show() #dibujamos el diagrama"
      ],
      "metadata": {
        "id": "cBGzEzOTqMbi",
        "colab": {
          "base_uri": "https://localhost:8080/",
          "height": 227
        },
        "outputId": "c4af7036-006f-40e5-f188-6bbb119aad74"
      },
      "execution_count": null,
      "outputs": [
        {
          "output_type": "display_data",
          "data": {
            "text/plain": [
              "<Figure size 360x216 with 1 Axes>"
            ],
            "image/png": "[encoded data removed]"
          },
          "metadata": {
            "needs_background": "light"
          }
        }
      ]
    },
    {
      "cell_type": "code",
      "source": [
        "#Realizamos una copia del dataframe\n",
        "consumer=data4_iqr.copy()"
      ],
      "metadata": {
        "id": "uw9L__ObqS34"
      },
      "execution_count": null,
      "outputs": []
    },
    {
      "cell_type": "code",
      "source": [
        "#Método aplicando Cuartiles. Encuentro cuartiles 0.25 y 0.75 \n",
        "y=data2[\"289_number_whatsapp_purchases_month\"]\n",
        "percentile25=y.quantile(0.25)\n",
        "percentile75=y.quantile(0.75)\n",
        "iqr=percentile75 - percentile25\n",
        "\n",
        "Limite_Superior_iqr=percentile75+1.5*iqr\n",
        "Limite_Inferior_iqr=percentile25-1.5*iqr\n",
        "print(\"Limite superior permitido\", Limite_Superior_iqr)\n",
        "print(\"Limite interior permitido\", Limite_Inferior_iqr)"
      ],
      "metadata": {
        "colab": {
          "base_uri": "https://localhost:8080/"
        },
        "id": "M1CedJlKqVdv",
        "outputId": "3fba0065-2eb8-437e-9007-4984651a7457"
      },
      "execution_count": null,
      "outputs": [
        {
          "output_type": "stream",
          "name": "stdout",
          "text": [
            "Limite superior permitido 2.5\n",
            "Limite interior permitido -1.5\n"
          ]
        }
      ]
    },
    {
      "cell_type": "code",
      "source": [
        "#Encontramos outliers del dataframe\n",
        "outliers_iqr=data2[(y>Limite_Superior_iqr)|(y<Limite_Inferior_iqr)]\n",
        "outliers_iqr"
      ],
      "metadata": {
        "id": "hvf-e6Xoqobo"
      },
      "execution_count": null,
      "outputs": []
    },
    {
      "cell_type": "code",
      "source": [
        "#Obtenemos datos limpios del DataFrame\n",
        "data4_iqr=data2[(y<=Limite_Superior_iqr)&(y>=Limite_Inferior_iqr)]\n",
        "data4_iqr"
      ],
      "metadata": {
        "id": "Kk61m4Xpqq6S"
      },
      "execution_count": null,
      "outputs": []
    },
    {
      "cell_type": "code",
      "source": [
        "#Realizamos diagrama de caja o bigote de cada columna del dataframe\n",
        "fig=plt.figure(figsize=(5,3))\n",
        "plt.boxplot(data3_iqr[\"289_number_whatsapp_purchases_month\"])\n",
        "plt.title(\"Valores atípicos del DataFrame\")\n",
        "plt.show() #dibujamos el diagrama"
      ],
      "metadata": {
        "id": "L2tGlF7Iqv4S"
      },
      "execution_count": null,
      "outputs": []
    },
    {
      "cell_type": "code",
      "source": [
        "#Realizamos una copia del dataframe\n",
        "consumer=data3_iqr.copy()"
      ],
      "metadata": {
        "id": "bp71EiJKsjZU"
      },
      "execution_count": null,
      "outputs": []
    },
    {
      "cell_type": "code",
      "source": [
        "#Método aplicando Cuartiles. Encuentro cuartiles 0.25 y 0.75 \n",
        "y=data2[\"288_number_app_purchases_month\"]\n",
        "percentile25=y.quantile(0.25)\n",
        "percentile75=y.quantile(0.75)\n",
        "iqr=percentile75 - percentile25\n",
        "\n",
        "Limite_Superior_iqr=percentile75+1.5*iqr\n",
        "Limite_Inferior_iqr=percentile25-1.5*iqr\n",
        "print(\"Limite superior permitido\", Limite_Superior_iqr)\n",
        "print(\"Limite interior permitido\", Limite_Inferior_iqr)"
      ],
      "metadata": {
        "colab": {
          "base_uri": "https://localhost:8080/"
        },
        "id": "XTWfGs_nsoFV",
        "outputId": "c7b44ddf-8b01-4a40-dc76-b48b1d6a057f"
      },
      "execution_count": null,
      "outputs": [
        {
          "output_type": "stream",
          "name": "stdout",
          "text": [
            "Limite superior permitido 12.5\n",
            "Limite interior permitido -7.5\n"
          ]
        }
      ]
    },
    {
      "cell_type": "code",
      "source": [
        "#Encontramos outliers del dataframe\n",
        "outliers_iqr=data2[(y>Limite_Superior_iqr)|(y<Limite_Inferior_iqr)]\n",
        "outliers_iqr"
      ],
      "metadata": {
        "id": "W8sdIupHtEnP"
      },
      "execution_count": null,
      "outputs": []
    },
    {
      "cell_type": "code",
      "source": [
        "#Obtenemos datos limpios del DataFrame\n",
        "data4_iqr=data2[(y<=Limite_Superior_iqr)&(y>=Limite_Inferior_iqr)]\n",
        "data4_iqr"
      ],
      "metadata": {
        "id": "bw2rHUr7tI0l"
      },
      "execution_count": null,
      "outputs": []
    },
    {
      "cell_type": "code",
      "source": [
        "#Realizamos diagrama de caja o bigote de cada columna del dataframe\n",
        "fig=plt.figure(figsize=(5,3))\n",
        "plt.boxplot(data3_iqr[\"288_number_app_purchases_month\"])\n",
        "plt.title(\"Valores atípicos del DataFrame\")\n",
        "plt.show() #dibujamos el diagrama"
      ],
      "metadata": {
        "colab": {
          "base_uri": "https://localhost:8080/",
          "height": 227
        },
        "id": "DBww1j20tQI3",
        "outputId": "95eee141-3cb8-48cb-9787-df68b309ad9f"
      },
      "execution_count": null,
      "outputs": [
        {
          "output_type": "display_data",
          "data": {
            "text/plain": [
              "<Figure size 360x216 with 1 Axes>"
            ],
            "image/png": "[encoded data removed]"
          },
          "metadata": {
            "needs_background": "light"
          }
        }
      ]
    },
    {
      "cell_type": "code",
      "source": [
        "#Realizamos una copia del dataframe\n",
        "consumer=data4_iqr.copy()"
      ],
      "metadata": {
        "id": "B5dA-dlJKdsm"
      },
      "execution_count": null,
      "outputs": []
    },
    {
      "cell_type": "code",
      "source": [
        "#Método aplicando Cuartiles. Encuentro cuartiles 0.25 y 0.75 \n",
        "y=data2[\"81_number_online_purchases_month\"]\n",
        "percentile25=y.quantile(0.25)\n",
        "percentile75=y.quantile(0.75)\n",
        "iqr=percentile75 - percentile25\n",
        "\n",
        "Limite_Superior_iqr=percentile75+1.5*iqr\n",
        "Limite_Inferior_iqr=percentile25-1.5*iqr\n",
        "print(\"Limite superior permitido\", Limite_Superior_iqr)\n",
        "print(\"Limite interior permitido\", Limite_Inferior_iqr)"
      ],
      "metadata": {
        "colab": {
          "base_uri": "https://localhost:8080/"
        },
        "id": "mwubEeCVSBO1",
        "outputId": "bea51cd0-f138-4331-d014-96b3a344408f"
      },
      "execution_count": null,
      "outputs": [
        {
          "output_type": "stream",
          "name": "stdout",
          "text": [
            "Limite superior permitido 6.0\n",
            "Limite interior permitido -2.0\n"
          ]
        }
      ]
    },
    {
      "cell_type": "code",
      "source": [
        "#Encontramos outliers del dataframe\n",
        "outliers_iqr=data2[(y>Limite_Superior_iqr)|(y<Limite_Inferior_iqr)]\n",
        "outliers_iqr"
      ],
      "metadata": {
        "id": "0tywCKT9SZDI"
      },
      "execution_count": null,
      "outputs": []
    },
    {
      "cell_type": "code",
      "source": [
        "#Obtenemos datos limpios del DataFrame\n",
        "data4_iqr=data2[(y<=Limite_Superior_iqr)&(y>=Limite_Inferior_iqr)]\n",
        "data4_iqr"
      ],
      "metadata": {
        "id": "mYIvoUbBSb6X"
      },
      "execution_count": null,
      "outputs": []
    },
    {
      "cell_type": "code",
      "source": [
        "#Realizamos diagrama de caja o bigote de cada columna del dataframe\n",
        "fig=plt.figure(figsize=(5,3))\n",
        "plt.boxplot(data3_iqr[\"81_number_online_purchases_month\"])\n",
        "plt.title(\"Valores atípicos del DataFrame\")\n",
        "plt.show() #dibujamos el diagrama"
      ],
      "metadata": {
        "id": "joCSUy8FSfSG"
      },
      "execution_count": null,
      "outputs": []
    },
    {
      "cell_type": "code",
      "source": [
        "#Realizamos una copia del dataframe\n",
        "consumer=data4_iqr.copy()"
      ],
      "metadata": {
        "id": "ua5l462zSz-5"
      },
      "execution_count": null,
      "outputs": []
    },
    {
      "cell_type": "code",
      "source": [
        "#Método aplicando Cuartiles. Encuentro cuartiles 0.25 y 0.75 \n",
        "y=data2[\"238_frequency_buying_store\"]\n",
        "percentile25=y.quantile(0.25)\n",
        "percentile75=y.quantile(0.75)\n",
        "iqr=percentile75 - percentile25\n",
        "\n",
        "Limite_Superior_iqr=percentile75+1.5*iqr\n",
        "Limite_Inferior_iqr=percentile25-1.5*iqr\n",
        "print(\"Limite superior permitido\", Limite_Superior_iqr)\n",
        "print(\"Limite interior permitido\", Limite_Inferior_iqr)"
      ],
      "metadata": {
        "colab": {
          "base_uri": "https://localhost:8080/"
        },
        "id": "ShCDgYciS2yL",
        "outputId": "6e994210-b941-4f25-e8e3-c50fdc3a728c"
      },
      "execution_count": null,
      "outputs": [
        {
          "output_type": "stream",
          "name": "stdout",
          "text": [
            "Limite superior permitido 6.0\n",
            "Limite interior permitido -2.0\n"
          ]
        }
      ]
    },
    {
      "cell_type": "code",
      "source": [
        "#Encontramos outliers del dataframe\n",
        "outliers_iqr=data2[(y>Limite_Superior_iqr)|(y<Limite_Inferior_iqr)]\n",
        "outliers_iqr"
      ],
      "metadata": {
        "id": "VXYE7qPJTEO4"
      },
      "execution_count": null,
      "outputs": []
    },
    {
      "cell_type": "code",
      "source": [
        "#Obtenemos datos limpios del DataFrame\n",
        "data4_iqr=data2[(y<=Limite_Superior_iqr)&(y>=Limite_Inferior_iqr)]\n",
        "data4_iqr"
      ],
      "metadata": {
        "id": "6l51K9lHTHE4"
      },
      "execution_count": null,
      "outputs": []
    },
    {
      "cell_type": "code",
      "source": [
        "#Realizamos diagrama de caja o bigote de cada columna del dataframe\n",
        "fig=plt.figure(figsize=(5,3))\n",
        "plt.boxplot(data3_iqr[\"238_frequency_buying_store\"])\n",
        "plt.title(\"Valores atípicos del DataFrame\")\n",
        "plt.show() #dibujamos el diagrama"
      ],
      "metadata": {
        "id": "8qmBlgArTKXp",
        "colab": {
          "base_uri": "https://localhost:8080/",
          "height": 227
        },
        "outputId": "68280ffb-6264-41e9-c297-ac60887fbd14"
      },
      "execution_count": null,
      "outputs": [
        {
          "output_type": "display_data",
          "data": {
            "text/plain": [
              "<Figure size 360x216 with 1 Axes>"
            ],
            "image/png": "[encoded data removed]"
          },
          "metadata": {
            "needs_background": "light"
          }
        }
      ]
    },
    {
      "cell_type": "markdown",
      "source": [
        "**Convertir DataSet sin valores nulos a CSV**"
      ],
      "metadata": {
        "id": "er1yF_EY7y1r"
      }
    },
    {
      "cell_type": "code",
      "source": [
        "#Convertir DataFrame a CSV\n",
        "data4_iqr.to_csv(\"consumer_mit_lift_lab_Nuevo.csv\") #una vez que se quitaron los valores nulos y los atípicos se convierte un archivo cvs"
      ],
      "metadata": {
        "id": "qwADplDN70-k"
      },
      "execution_count": null,
      "outputs": []
    },
    {
      "cell_type": "code",
      "source": [
        "#descargar archivo filtrado en csv\n",
        "from google.colab import files\n",
        "\n",
        "files.download(\"consumer_mit_lift_lab_Nuevo.csv\") #se descarga el documento .csv con los datos limpio"
      ],
      "metadata": {
        "colab": {
          "base_uri": "https://localhost:8080/",
          "height": 17
        },
        "id": "bENrJYV09kFJ",
        "outputId": "4da48f87-fb33-407d-f3dd-9d7dfb90eff7"
      },
      "execution_count": null,
      "outputs": [
        {
          "output_type": "display_data",
          "data": {
            "text/plain": [
              "<IPython.core.display.Javascript object>"
            ],
            "application/javascript": [
              "\n",
              "    async function download(id, filename, size) {\n",
              "      if (!google.colab.kernel.accessAllowed) {\n",
              "        return;\n",
              "      }\n",
              "      const div = document.createElement('div');\n",
              "      const label = document.createElement('label');\n",
              "      label.textContent = `Downloading \"${filename}\": `;\n",
              "      div.appendChild(label);\n",
              "      const progress = document.createElement('progress');\n",
              "      progress.max = size;\n",
              "      div.appendChild(progress);\n",
              "      document.body.appendChild(div);\n",
              "\n",
              "      const buffers = [];\n",
              "      let downloaded = 0;\n",
              "\n",
              "      const channel = await google.colab.kernel.comms.open(id);\n",
              "      // Send a message to notify the kernel that we're ready.\n",
              "      channel.send({})\n",
              "\n",
              "      for await (const message of channel.messages) {\n",
              "        // Send a message to notify the kernel that we're ready.\n",
              "        channel.send({})\n",
              "        if (message.buffers) {\n",
              "          for (const buffer of message.buffers) {\n",
              "            buffers.push(buffer);\n",
              "            downloaded += buffer.byteLength;\n",
              "            progress.value = downloaded;\n",
              "          }\n",
              "        }\n",
              "      }\n",
              "      const blob = new Blob(buffers, {type: 'application/binary'});\n",
              "      const a = document.createElement('a');\n",
              "      a.href = window.URL.createObjectURL(blob);\n",
              "      a.download = filename;\n",
              "      div.appendChild(a);\n",
              "      a.click();\n",
              "      div.remove();\n",
              "    }\n",
              "  "
            ]
          },
          "metadata": {}
        },
        {
          "output_type": "display_data",
          "data": {
            "text/plain": [
              "<IPython.core.display.Javascript object>"
            ],
            "application/javascript": [
              "download(\"download_23847d55-6901-48b9-be7c-15458f602d84\", \"consumer_mit_lift_lab_Nuevo.csv\", 56693)"
            ]
          },
          "metadata": {}
        }
      ]
    }
  ]
}